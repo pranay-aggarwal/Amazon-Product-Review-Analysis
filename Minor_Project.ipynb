{
  "nbformat": 4,
  "nbformat_minor": 0,
  "metadata": {
    "colab": {
      "name": "Minor Project.ipynb",
      "provenance": [],
      "collapsed_sections": [],
      "authorship_tag": "ABX9TyO2J+DOkAxU6xfpeJ4MAf4Y",
      "include_colab_link": true
    },
    "kernelspec": {
      "display_name": "Python 3",
      "name": "python3"
    },
    "language_info": {
      "name": "python"
    }
  },
  "cells": [
    {
      "cell_type": "markdown",
      "metadata": {
        "id": "view-in-github",
        "colab_type": "text"
      },
      "source": [
        "<a href=\"https://colab.research.google.com/github/pranay-aggarwal/Minor-Project./blob/main/Minor_Project.ipynb\" target=\"_parent\"><img src=\"https://colab.research.google.com/assets/colab-badge.svg\" alt=\"Open In Colab\"/></a>"
      ]
    },
    {
      "cell_type": "code",
      "metadata": {
        "id": "E_SD7fmiWuRT"
      },
      "source": [
        "!pip install bing_image_downloader"
      ],
      "execution_count": null,
      "outputs": []
    },
    {
      "cell_type": "code",
      "metadata": {
        "id": "WSJPEH51yMIY"
      },
      "source": [
        "!pip install streamlit\n",
        "!pip install pyngrok\n"
      ],
      "execution_count": null,
      "outputs": []
    },
    {
      "cell_type": "code",
      "metadata": {
        "id": "rjS8tyhfYPZQ"
      },
      "source": [
        "!mkdir images"
      ],
      "execution_count": null,
      "outputs": []
    },
    {
      "cell_type": "code",
      "metadata": {
        "id": "Va3HjGk5YSr0"
      },
      "source": [
        "from bing_image_downloader import downloader\n",
        "downloader.download('cats',limit=30,output_dir='images',adult_filter_off=True)"
      ],
      "execution_count": null,
      "outputs": []
    },
    {
      "cell_type": "code",
      "metadata": {
        "id": "8Agik9jsZDl-"
      },
      "source": [
        "downloader.download('dogs',limit=30,output_dir='images',adult_filter_off=True)"
      ],
      "execution_count": null,
      "outputs": []
    },
    {
      "cell_type": "code",
      "metadata": {
        "id": "hUaq9QiNZr_G"
      },
      "source": [
        "import os\n",
        "import matplotlib.pyplot as plt\n",
        "import numpy as np\n",
        "from skimage.io import imread\n",
        "from skimage.transform import resize\n",
        "from sklearn.model_selection import train_test_split\n",
        "from sklearn.model_selection import GridSearchCV\n",
        "from sklearn import svm\n",
        "from sklearn.metrics import accuracy_score,confusion_matrix\n",
        "import pickle\n",
        "from pyngrok import ngrok\n",
        "import streamlit as st"
      ],
      "execution_count": null,
      "outputs": []
    },
    {
      "cell_type": "code",
      "metadata": {
        "id": "mj7zqAZgbZBq"
      },
      "source": [
        "target=[]\n",
        "images=[]\n",
        "flat_data=[]\n",
        "\n",
        "DATADIR= '/content/images'\n",
        "CATEGORIES=['cats','dogs']\n",
        "\n"
      ],
      "execution_count": null,
      "outputs": []
    },
    {
      "cell_type": "code",
      "metadata": {
        "id": "EpvcrgHxb2lk"
      },
      "source": [
        "for category in CATEGORIES:\n",
        "    class_num=CATEGORIES.index(category)\n",
        "    path=os.path.join(DATADIR,category)\n",
        "    for img in os.listdir(path):\n",
        "       img_array=imread(os.path.join(path,img))\n",
        "       img_resized=resize(img_array,(150,150,3))\n",
        "       flat_data.append(img_resized.flatten())\n",
        "       images.append(img_resized)\n",
        "       target.append(class_num)\n",
        "\n",
        "flat_data=np.array(flat_data)\n",
        "target=np.array(target)\n",
        "images=np.array(images)"
      ],
      "execution_count": null,
      "outputs": []
    },
    {
      "cell_type": "code",
      "metadata": {
        "id": "ym7mKBGQfLqO"
      },
      "source": [
        "x_train,x_test,y_train,y_test=train_test_split(flat_data,target,test_size=0.3,random_state=109)"
      ],
      "execution_count": null,
      "outputs": []
    },
    {
      "cell_type": "code",
      "metadata": {
        "id": "9MLoMsnHgSMi"
      },
      "source": [
        "param_grid= [\n",
        "             {'C':[1.0,10.0,100.0,1000.0],'gamma':[0.001,0.0001],'kernel':['rbf']},\n",
        "              {'C':[1.0,10.0,100.0,1000.0],'kernel':['linear']},\n",
        "]\n",
        "\n",
        "svc=svm.SVC(probability=True)\n",
        "clf=GridSearchCV(svc,param_grid)\n",
        "clf.fit(x_train,y_train)"
      ],
      "execution_count": null,
      "outputs": []
    },
    {
      "cell_type": "code",
      "metadata": {
        "id": "jjBUxfk4h75S"
      },
      "source": [
        "y_pred=clf.predict(x_test)\n",
        "y_pred"
      ],
      "execution_count": null,
      "outputs": []
    },
    {
      "cell_type": "code",
      "metadata": {
        "id": "IqwYLLZ5m3Ul"
      },
      "source": [
        "y_test"
      ],
      "execution_count": null,
      "outputs": []
    },
    {
      "cell_type": "code",
      "metadata": {
        "id": "qowx0U5ho0jW"
      },
      "source": [
        "accuracy_score(y_pred,y_test)"
      ],
      "execution_count": null,
      "outputs": []
    },
    {
      "cell_type": "code",
      "metadata": {
        "id": "Xje0WEKjpJXH"
      },
      "source": [
        "confusion_matrix(y_pred,y_test)"
      ],
      "execution_count": null,
      "outputs": []
    },
    {
      "cell_type": "code",
      "metadata": {
        "id": "bgPvlOFspPyT"
      },
      "source": [
        "pickle.dump(clf,open('img_model.p','wb'))\n",
        "model=pickle.load(open('img_model.p','rb'))\n",
        "flat_data=[]\n",
        "url=input('enter your url of image: ')\n",
        "img= imread(url)\n",
        "img_resize=resize(img,(150,150,3))\n",
        "flat_data.append(img_resize.flatten())\n",
        "flat_data=np.array(flat_data)\n",
        "print(img.shape)\n",
        "y_out=model.predict(flat_data)\n",
        "y_out=CATEGORIES[y_out[0]]\n",
        "print(f' predicted output: {y_out} ')  "
      ],
      "execution_count": null,
      "outputs": []
    },
    {
      "cell_type": "code",
      "metadata": {
        "id": "jTDuSxAfte7j"
      },
      "source": [
        "%%writefile app.py  \n",
        "import streamlit as st\n",
        "import numpy as np\n",
        "from skimage.io import imread\n",
        "from skimage.transform import resize\n",
        "import pickle\n",
        "from PIL import Image\n",
        "st.title('Image Classifier- Cats or Dogs')\n",
        "st.text('upload the image')\n",
        "model=pickle.load(open('img_model.p','rb'))\n",
        "uploaded_file =st.file_uploader('choose an image...',type='jpg')\n",
        "if uploaded_file is not None:\n",
        "    img=Image.open(uploaded_file)\n",
        "    st.image(img,caption'uploaded file')\n",
        "if st.button('PREDICT'):\n",
        "    CATEGORIES=['cats','dogs']\n",
        "    st.write('result.....')\n",
        "    flat_data=[]\n",
        "    img=np.array(img)\n",
        "    img_resize=resize(img,(150,150,3))\n",
        "    flat_data.append(img_resize.flatten())\n",
        "    flat_data=np.array(flat_data)\n",
        "    y_out=model.predict(flat_data)\n",
        "    y_out=CATEGORIES[y_out[0]]\n",
        "    st.title(f' predicted output: {y_out} ')\n",
        "    q=model.predict_proba(flat_data)\n",
        "    for index,item in enumerate(CATEGORIES):\n",
        "        st.write(f'{item}:{q[0][index]*100%}')"
      ],
      "execution_count": null,
      "outputs": []
    },
    {
      "cell_type": "code",
      "metadata": {
        "id": "71M7i6G9t0mz"
      },
      "source": [
        "!nohup streamlit run app.py &\n",
        " \n",
        "url=ngrok.connect(port='8501')\n",
        "url"
      ],
      "execution_count": null,
      "outputs": []
    },
    {
      "cell_type": "code",
      "metadata": {
        "id": "p_YhL75x4w7y"
      },
      "source": [
        "##sample images\n",
        "#https://encrypted-tbn0.gstatic.com/images?q=tbn:ANd9GcSfx__RoRYzLDgXDiJxYGxLihJC4zoqV3V0xg&usqp=CAU.jpg\n",
        "#https://specials-images.forbesimg.com/imageserve/6082931ef598a85b055afe77/960x0.jpg?cropX1=0&cropX2=3475&cropY1=182&cropY2=2137.jpg"
      ],
      "execution_count": null,
      "outputs": []
    }
  ]
}